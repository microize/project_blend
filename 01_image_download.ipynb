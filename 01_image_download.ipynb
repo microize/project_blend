{
 "cells": [
  {
   "cell_type": "markdown",
   "metadata": {},
   "source": [
    "# Image Download"
   ]
  },
  {
   "cell_type": "markdown",
   "metadata": {},
   "source": [
    "### 1. Toyota"
   ]
  },
  {
   "cell_type": "code",
   "execution_count": null,
   "metadata": {},
   "outputs": [],
   "source": [
    "import requests\n",
    "\n",
    "def download_image(url, save_path):\n",
    "    response = requests.get(url)\n",
    "    if response.status_code == 200:\n",
    "        with open(save_path, 'wb') as file:\n",
    "            file.write(response.content)\n",
    "        #print(\"Image downloaded successfully!\")\n",
    "    else:\n",
    "        print(f\"Failed to download image. Status code: {response.status_code}\")\n",
    "\n",
    "color_range = ['202','1g3','1l5','3u5','090']\n",
    "for y in color_range:\n",
    "    for x in range(1,37):\n",
    "        url = r\"https://www.toyota.com/imgix/content/dam/toyota/jellies/max/2024/toyotacrown/limited/4020/\"+str(y)+\"/36/\"+str(x)+\".png?fm=webp&w=930&q=90\"\n",
    "        save_path = r\"toyota_toyota_crown_2024_limited_\"+y+\"_\"+str(x)+\"0_degree_normal_shot_image.png\"\n",
    "        download_image(url, save_path)"
   ]
  },
  {
   "cell_type": "markdown",
   "metadata": {},
   "source": [
    "### 2.Nissan"
   ]
  },
  {
   "cell_type": "code",
   "execution_count": null,
   "metadata": {},
   "outputs": [],
   "source": [
    "import requests\n",
    "\n",
    "def download_image(url, save_path):\n",
    "    response = requests.get(url)\n",
    "    if response.status_code == 200:\n",
    "        with open(save_path, 'wb') as file:\n",
    "            file.write(response.content)\n",
    "        print(\"Image downloaded successfully!\")\n",
    "    else:\n",
    "        print(f\"Failed to download image. Status code: {response.status_code}\")\n",
    "\n",
    "color_range = ['QM1','KAD','B51','NBL','KH3','KAD','KBY','XDU','XAB','XEX','XAH','XGY']\n",
    "for y in color_range:\n",
    "    for x in range(1,10):\n",
    "        url = r\"https://ms-prd-nna.use.mediaserver.heliosnissan.net/iris/iris?resp=png&bkgnd=transparent&pov=E0\"+str(x)+\"&width=1600&height=900&vehicle=8_P15&paint=\"+str(y)+\"&fabric=G&brand=nisnna&sa=1_F,2_DT,4_A,5_L,6_R,7_Z,11_E,12_U,13_A,14_B,18_F,SHADOW_ON,PI_ON,PE_ON,2024\"\n",
    "        save_path = r\"Nissan_kicks_2024_SR_\"+y+\"_\"+str(x)+\"0_degree_normal_shot_image.png\"\n",
    "        download_image(url, save_path)"
   ]
  },
  {
   "cell_type": "markdown",
   "metadata": {},
   "source": [
    "### 3.MG5"
   ]
  },
  {
   "cell_type": "code",
   "execution_count": null,
   "metadata": {},
   "outputs": [],
   "source": [
    "import requests\n",
    "\n",
    "def download_image(url, save_path):\n",
    "    response = requests.get(url)\n",
    "    if response.status_code == 200:\n",
    "        with open(save_path, 'wb') as file:\n",
    "            file.write(response.content)\n",
    "        print(\"Image downloaded successfully!\")\n",
    "    else:\n",
    "        print(f\"Failed to download image. Status code: {response.status_code}\")\n",
    "\n",
    "color_range = ['red','black','blue','gold','gray','white']\n",
    "for y in color_range:\n",
    "    for x in range(1,10):\n",
    "        url = r\"https://tours.exsight360.com/mg/mg-5/360_assets/\"+y+\"/images/000\"+str(x)+\".jpg\"\n",
    "        save_path = r\"MG5_\"+y+\"_\"+str(x)+\"0_degree_normal_shot_image.png\"\n",
    "        download_image(url, save_path)"
   ]
  }
 ],
 "metadata": {
  "kernelspec": {
   "display_name": ".venv",
   "language": "python",
   "name": "python3"
  },
  "language_info": {
   "codemirror_mode": {
    "name": "ipython",
    "version": 3
   },
   "file_extension": ".py",
   "mimetype": "text/x-python",
   "name": "python",
   "nbconvert_exporter": "python",
   "pygments_lexer": "ipython3",
   "version": "3.11.9"
  }
 },
 "nbformat": 4,
 "nbformat_minor": 2
}
